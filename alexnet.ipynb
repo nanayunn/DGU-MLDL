{
 "cells": [
  {
   "cell_type": "code",
   "execution_count": 1,
   "id": "5c90a93a-17ee-459b-a536-ef9144b9b343",
   "metadata": {},
   "outputs": [
    {
     "data": {
      "text/plain": [
       "True"
      ]
     },
     "execution_count": 1,
     "metadata": {},
     "output_type": "execute_result"
    }
   ],
   "source": [
    "import torch\n",
    "torch.cuda.is_available()"
   ]
  },
  {
   "cell_type": "code",
   "execution_count": 2,
   "id": "7f5e52c5-e67a-4456-b0f5-d046dbfc742d",
   "metadata": {},
   "outputs": [
    {
     "name": "stdout",
     "output_type": "stream",
     "text": [
      "cuda:0\n"
     ]
    }
   ],
   "source": [
    "device = torch.device(\"cuda:0\" if torch.cuda.is_available() else \"cpu\")\n",
    "print(device)"
   ]
  },
  {
   "cell_type": "code",
   "execution_count": 3,
   "id": "edc41bf8-93d3-4060-97d8-b9c479b36b9e",
   "metadata": {},
   "outputs": [],
   "source": [
    "import os\n",
    "from torch.utils.data import Dataset, DataLoader, random_split\n",
    "import torch\n",
    "from torchvision import datasets, transforms, models\n",
    "import torch.nn as nn\n",
    "import torch.optim as optim\n",
    "from torchvision import transforms, datasets"
   ]
  },
  {
   "cell_type": "code",
   "execution_count": 4,
   "id": "e784ed10-110d-4e79-997e-ccf99891c676",
   "metadata": {},
   "outputs": [],
   "source": [
    "# Check if GPU is available and set device accordingly\n",
    "device = torch.device(\"cuda:0\" if torch.cuda.is_available() else \"cpu\")\n",
    "\n",
    "# Define the transforms\n",
    "transform = transforms.Compose([\n",
    "    transforms.RandomResizedCrop(224),\n",
    "    transforms.RandomHorizontalFlip(),\n",
    "    transforms.ColorJitter(brightness=0.2, contrast=0.2, saturation=0.2, hue=0.2),\n",
    "    transforms.RandomRotation(30),\n",
    "    transforms.ToTensor(),\n",
    "    transforms.Normalize((0.5, 0.5, 0.5), (0.5, 0.5, 0.5)),\n",
    "])\n"
   ]
  },
  {
   "cell_type": "code",
   "execution_count": 5,
   "id": "c4fec352-5126-4b9b-884b-6b8b8d6f8d2e",
   "metadata": {},
   "outputs": [
    {
     "name": "stdout",
     "output_type": "stream",
     "text": [
      "150\n"
     ]
    }
   ],
   "source": [
    "# Create the dataset\n",
    "trainset = datasets.ImageFolder(\"./PokemonData\", transform=transform)\n",
    "dataset_length = len(trainset)\n",
    "\n",
    "# Split the dataset into training and validation sets\n",
    "training_data, validation_data = random_split(trainset, [int(0.8 * dataset_length), dataset_length - int(0.8 * dataset_length)])\n",
    "\n",
    "print(len(trainset.classes))\n"
   ]
  },
  {
   "cell_type": "code",
   "execution_count": 6,
   "id": "d31b59c3-72a9-4483-8f6b-64145d319cb9",
   "metadata": {},
   "outputs": [],
   "source": [
    "# Create data loaders\n",
    "trainloader = DataLoader(training_data, batch_size=64, shuffle=True, num_workers=4)\n",
    "testloader = DataLoader(validation_data, batch_size=64, shuffle=True, num_workers=4)"
   ]
  },
  {
   "cell_type": "code",
   "execution_count": 7,
   "id": "21564875-bf85-46a0-aaff-ba3314917f0b",
   "metadata": {},
   "outputs": [],
   "source": [
    "\n",
    "# Train the model\n",
    "num_epochs = 50\n",
    "\n",
    "best_acc = 0.0  # Variable to store the best accuracy on the validation set\n"
   ]
  },
  {
   "cell_type": "code",
   "execution_count": 8,
   "id": "d87fb764-a277-4d5e-a1a8-9d08618e2af5",
   "metadata": {},
   "outputs": [
    {
     "name": "stdout",
     "output_type": "stream",
     "text": [
      "Epoch 1, Training Accuracy: 23.53372434% (1284/5456), Validation Accuracy: 62.31671554% (850/1364)\n",
      "Epoch 2, Training Accuracy: 72.67228739% (3965/5456), Validation Accuracy: 74.12023460% (1011/1364)\n",
      "Epoch 3, Training Accuracy: 85.75879765% (4679/5456), Validation Accuracy: 79.76539589% (1088/1364)\n",
      "Epoch 4, Training Accuracy: 91.64222874% (5000/5456), Validation Accuracy: 79.76539589% (1088/1364)\n",
      "Epoch 5, Training Accuracy: 95.36290323% (5203/5456), Validation Accuracy: 79.32551320% (1082/1364)\n",
      "Epoch 6, Training Accuracy: 95.98607038% (5237/5456), Validation Accuracy: 81.15835777% (1107/1364)\n",
      "Epoch 7, Training Accuracy: 97.04912023% (5295/5456), Validation Accuracy: 81.37829912% (1110/1364)\n",
      "Epoch 8, Training Accuracy: 97.96554252% (5345/5456), Validation Accuracy: 82.25806452% (1122/1364)\n",
      "Epoch 9, Training Accuracy: 98.55205279% (5377/5456), Validation Accuracy: 82.55131965% (1126/1364)\n",
      "Epoch 10, Training Accuracy: 98.47873900% (5373/5456), Validation Accuracy: 82.18475073% (1121/1364)\n",
      "Epoch 11, Training Accuracy: 98.84530792% (5393/5456), Validation Accuracy: 81.67155425% (1114/1364)\n",
      "Epoch 12, Training Accuracy: 98.93695015% (5398/5456), Validation Accuracy: 81.81818182% (1116/1364)\n",
      "Epoch 13, Training Accuracy: 98.84530792% (5393/5456), Validation Accuracy: 81.89149560% (1117/1364)\n",
      "Epoch 14, Training Accuracy: 99.06524927% (5405/5456), Validation Accuracy: 82.33137830% (1123/1364)\n",
      "Epoch 15, Training Accuracy: 99.08357771% (5406/5456), Validation Accuracy: 82.55131965% (1126/1364)\n",
      "Epoch 16, Training Accuracy: 99.32184751% (5419/5456), Validation Accuracy: 83.21114370% (1135/1364)\n",
      "Epoch 17, Training Accuracy: 99.28519062% (5417/5456), Validation Accuracy: 83.72434018% (1142/1364)\n",
      "Epoch 18, Training Accuracy: 99.28519062% (5417/5456), Validation Accuracy: 82.11143695% (1120/1364)\n",
      "Epoch 19, Training Accuracy: 99.54178886% (5431/5456), Validation Accuracy: 82.62463343% (1127/1364)\n",
      "Epoch 20, Training Accuracy: 99.59677419% (5434/5456), Validation Accuracy: 83.06451613% (1133/1364)\n",
      "Epoch 21, Training Accuracy: 99.52346041% (5430/5456), Validation Accuracy: 82.47800587% (1125/1364)\n",
      "Epoch 22, Training Accuracy: 99.43181818% (5425/5456), Validation Accuracy: 83.13782991% (1134/1364)\n",
      "Epoch 23, Training Accuracy: 99.46847507% (5427/5456), Validation Accuracy: 82.84457478% (1130/1364)\n",
      "Epoch 24, Training Accuracy: 99.28519062% (5417/5456), Validation Accuracy: 83.65102639% (1141/1364)\n",
      "Epoch 25, Training Accuracy: 99.67008798% (5438/5456), Validation Accuracy: 82.77126100% (1129/1364)\n",
      "Epoch 26, Training Accuracy: 99.61510264% (5435/5456), Validation Accuracy: 82.84457478% (1130/1364)\n",
      "Epoch 27, Training Accuracy: 99.76173021% (5443/5456), Validation Accuracy: 82.84457478% (1130/1364)\n",
      "Epoch 28, Training Accuracy: 99.63343109% (5436/5456), Validation Accuracy: 82.47800587% (1125/1364)\n",
      "Epoch 29, Training Accuracy: 99.61510264% (5435/5456), Validation Accuracy: 83.43108504% (1138/1364)\n",
      "Epoch 30, Training Accuracy: 99.85337243% (5448/5456), Validation Accuracy: 83.50439883% (1139/1364)\n",
      "Epoch 31, Training Accuracy: 99.72507331% (5441/5456), Validation Accuracy: 84.31085044% (1150/1364)\n",
      "Epoch 32, Training Accuracy: 99.59677419% (5434/5456), Validation Accuracy: 82.99120235% (1132/1364)\n",
      "Epoch 33, Training Accuracy: 99.90835777% (5451/5456), Validation Accuracy: 83.35777126% (1137/1364)\n",
      "Epoch 34, Training Accuracy: 99.87170088% (5449/5456), Validation Accuracy: 83.57771261% (1140/1364)\n",
      "Epoch 35, Training Accuracy: 99.89002933% (5450/5456), Validation Accuracy: 83.87096774% (1144/1364)\n",
      "Epoch 36, Training Accuracy: 99.83504399% (5447/5456), Validation Accuracy: 83.28445748% (1136/1364)\n",
      "Epoch 37, Training Accuracy: 99.65175953% (5437/5456), Validation Accuracy: 83.72434018% (1142/1364)\n",
      "Epoch 38, Training Accuracy: 99.63343109% (5436/5456), Validation Accuracy: 83.72434018% (1142/1364)\n",
      "Epoch 39, Training Accuracy: 99.72507331% (5441/5456), Validation Accuracy: 84.09090909% (1147/1364)\n",
      "Epoch 40, Training Accuracy: 99.87170088% (5449/5456), Validation Accuracy: 83.79765396% (1143/1364)\n",
      "Epoch 41, Training Accuracy: 99.87170088% (5449/5456), Validation Accuracy: 83.87096774% (1144/1364)\n",
      "Epoch 42, Training Accuracy: 99.87170088% (5449/5456), Validation Accuracy: 83.79765396% (1143/1364)\n",
      "Epoch 43, Training Accuracy: 99.89002933% (5450/5456), Validation Accuracy: 84.67741935% (1155/1364)\n",
      "Epoch 44, Training Accuracy: 99.78005865% (5444/5456), Validation Accuracy: 84.31085044% (1150/1364)\n",
      "Epoch 45, Training Accuracy: 99.85337243% (5448/5456), Validation Accuracy: 83.87096774% (1144/1364)\n",
      "Epoch 46, Training Accuracy: 99.85337243% (5448/5456), Validation Accuracy: 84.31085044% (1150/1364)\n",
      "Epoch 47, Training Accuracy: 99.85337243% (5448/5456), Validation Accuracy: 85.04398827% (1160/1364)\n",
      "Epoch 48, Training Accuracy: 99.81671554% (5446/5456), Validation Accuracy: 84.67741935% (1155/1364)\n",
      "Epoch 49, Training Accuracy: 99.89002933% (5450/5456), Validation Accuracy: 85.11730205% (1161/1364)\n",
      "Epoch 50, Training Accuracy: 99.96334311% (5454/5456), Validation Accuracy: 84.45747801% (1152/1364)\n",
      "Finished Training\n"
     ]
    }
   ],
   "source": [
    "# Load the pretrained AlexNet model\n",
    "model = models.alexnet(pretrained=True)\n",
    "\n",
    "# Modify the classifier to match the number of classes\n",
    "num_features = model.classifier[6].in_features\n",
    "model.classifier[6] = nn.Linear(num_features, len(trainset.classes))\n",
    "\n",
    "# Move the model to GPU\n",
    "model = model.to(device)\n",
    "\n",
    "# Define the loss function and optimizer\n",
    "criterion = nn.CrossEntropyLoss()\n",
    "optimizer = optim.SGD(model.parameters(), lr=0.001, momentum=0.9)\n",
    "\n",
    "for epoch in range(num_epochs):\n",
    "    model.train()\n",
    "    running_loss = 0.0\n",
    "    correct_train = 0\n",
    "    total_train = 0\n",
    "\n",
    "    for i, data in enumerate(trainloader, 0):\n",
    "        inputs, labels = data\n",
    "\n",
    "        # Move inputs and labels to GPU\n",
    "        inputs, labels = inputs.to(device), labels.to(device)\n",
    "\n",
    "        optimizer.zero_grad()\n",
    "\n",
    "        outputs = model(inputs)\n",
    "        loss = criterion(outputs, labels)\n",
    "        loss.backward()\n",
    "        optimizer.step()\n",
    "\n",
    "        running_loss += loss.item()\n",
    "\n",
    "        _, predicted_train = torch.max(outputs.data, 1)\n",
    "        total_train += labels.size(0)\n",
    "        correct_train += (predicted_train == labels).sum().item()\n",
    "\n",
    "        if i % 100 == 99:\n",
    "            print('[%d, %5d] loss: %.3f' %\n",
    "                  (epoch + 1, i + 1, running_loss / 100))\n",
    "            running_loss = 0.0\n",
    "\n",
    "    # Training accuracy for the epoch\n",
    "    train_accuracy = correct_train / total_train\n",
    "\n",
    "    # Evaluate the model on the validation set\n",
    "    model.eval()\n",
    "    correct_val = 0\n",
    "    total_val = 0\n",
    "\n",
    "    with torch.no_grad():\n",
    "        for data in testloader:\n",
    "            inputs, labels = data\n",
    "            inputs, labels = inputs.to(device), labels.to(device)\n",
    "            outputs = model(inputs)\n",
    "            _, predicted_val = torch.max(outputs.data, 1)\n",
    "            total_val += labels.size(0)\n",
    "            correct_val += (predicted_val == labels).sum().item()\n",
    "\n",
    "    # Validation accuracy for the epoch\n",
    "    val_accuracy = correct_val / total_val\n",
    "\n",
    "    print(f'Epoch {epoch + 1}, Training Accuracy: {100 * train_accuracy:.8f}% ({correct_train}/{total_train}), Validation Accuracy: {100 * val_accuracy:.8f}% ({correct_val}/{total_val})')\n",
    "\n",
    "    # Save the model if it has the best accuracy so far\n",
    "    if val_accuracy > best_acc:\n",
    "        best_acc = val_accuracy\n",
    "        torch.save(model.state_dict(), 'best_model_alexnet.pth')\n",
    "\n",
    "print('Finished Training')"
   ]
  },
  {
   "cell_type": "code",
   "execution_count": 9,
   "id": "2ad1a22f-369f-4990-bfed-4e48fb72e280",
   "metadata": {},
   "outputs": [
    {
     "name": "stderr",
     "output_type": "stream",
     "text": [
      "Downloading: \"https://download.pytorch.org/models/vgg16-397923af.pth\" to C:\\Users\\user/.cache\\torch\\hub\\checkpoints\\vgg16-397923af.pth\n"
     ]
    },
    {
     "data": {
      "application/vnd.jupyter.widget-view+json": {
       "model_id": "a90aa663cf5946b497b5c9acd63cce3c",
       "version_major": 2,
       "version_minor": 0
      },
      "text/plain": [
       "  0%|          | 0.00/528M [00:00<?, ?B/s]"
      ]
     },
     "metadata": {},
     "output_type": "display_data"
    },
    {
     "name": "stdout",
     "output_type": "stream",
     "text": [
      "Epoch 1, Training Accuracy: 3.07917889% (168/5456), Validation Accuracy: 19.42815249% (265/1364)\n",
      "Epoch 2, Training Accuracy: 41.47727273% (2263/5456), Validation Accuracy: 75.07331378% (1024/1364)\n",
      "Epoch 3, Training Accuracy: 77.69428152% (4239/5456), Validation Accuracy: 82.62463343% (1127/1364)\n",
      "Epoch 4, Training Accuracy: 87.40835777% (4769/5456), Validation Accuracy: 84.01759531% (1146/1364)\n",
      "Epoch 5, Training Accuracy: 92.02712610% (5021/5456), Validation Accuracy: 85.26392962% (1163/1364)\n",
      "Epoch 6, Training Accuracy: 95.12463343% (5190/5456), Validation Accuracy: 87.46334311% (1193/1364)\n",
      "Epoch 7, Training Accuracy: 96.20601173% (5249/5456), Validation Accuracy: 87.09677419% (1188/1364)\n",
      "Epoch 8, Training Accuracy: 96.97580645% (5291/5456), Validation Accuracy: 86.43695015% (1179/1364)\n",
      "Epoch 9, Training Accuracy: 97.58064516% (5324/5456), Validation Accuracy: 87.53665689% (1194/1364)\n",
      "Epoch 10, Training Accuracy: 98.29545455% (5363/5456), Validation Accuracy: 87.75659824% (1197/1364)\n",
      "Epoch 11, Training Accuracy: 98.42375367% (5370/5456), Validation Accuracy: 87.68328446% (1196/1364)\n",
      "Epoch 12, Training Accuracy: 98.64369501% (5382/5456), Validation Accuracy: 87.82991202% (1198/1364)\n",
      "Epoch 13, Training Accuracy: 98.79032258% (5390/5456), Validation Accuracy: 89.22287390% (1217/1364)\n",
      "Epoch 14, Training Accuracy: 98.93695015% (5398/5456), Validation Accuracy: 87.97653959% (1200/1364)\n",
      "Epoch 15, Training Accuracy: 98.44208211% (5371/5456), Validation Accuracy: 88.48973607% (1207/1364)\n",
      "Epoch 16, Training Accuracy: 99.13856305% (5409/5456), Validation Accuracy: 88.85630499% (1212/1364)\n",
      "Epoch 17, Training Accuracy: 99.24853372% (5415/5456), Validation Accuracy: 89.14956012% (1216/1364)\n",
      "Epoch 18, Training Accuracy: 99.39516129% (5423/5456), Validation Accuracy: 89.00293255% (1214/1364)\n",
      "Epoch 19, Training Accuracy: 99.52346041% (5430/5456), Validation Accuracy: 89.22287390% (1217/1364)\n",
      "Epoch 20, Training Accuracy: 99.54178886% (5431/5456), Validation Accuracy: 88.78299120% (1211/1364)\n",
      "Epoch 21, Training Accuracy: 99.50513196% (5429/5456), Validation Accuracy: 88.70967742% (1210/1364)\n",
      "Epoch 22, Training Accuracy: 99.50513196% (5429/5456), Validation Accuracy: 88.63636364% (1209/1364)\n",
      "Epoch 23, Training Accuracy: 99.65175953% (5437/5456), Validation Accuracy: 89.22287390% (1217/1364)\n",
      "Epoch 24, Training Accuracy: 99.59677419% (5434/5456), Validation Accuracy: 89.29618768% (1218/1364)\n",
      "Epoch 25, Training Accuracy: 99.46847507% (5427/5456), Validation Accuracy: 90.02932551% (1228/1364)\n",
      "Epoch 26, Training Accuracy: 99.65175953% (5437/5456), Validation Accuracy: 90.39589443% (1233/1364)\n",
      "Epoch 27, Training Accuracy: 99.56011730% (5432/5456), Validation Accuracy: 90.32258065% (1232/1364)\n",
      "Epoch 28, Training Accuracy: 99.59677419% (5434/5456), Validation Accuracy: 90.90909091% (1240/1364)\n",
      "Epoch 29, Training Accuracy: 99.72507331% (5441/5456), Validation Accuracy: 90.61583578% (1236/1364)\n",
      "Epoch 30, Training Accuracy: 99.70674487% (5440/5456), Validation Accuracy: 89.29618768% (1218/1364)\n",
      "Epoch 31, Training Accuracy: 99.70674487% (5440/5456), Validation Accuracy: 90.39589443% (1233/1364)\n",
      "Epoch 32, Training Accuracy: 99.72507331% (5441/5456), Validation Accuracy: 89.88269795% (1226/1364)\n",
      "Epoch 33, Training Accuracy: 99.68841642% (5439/5456), Validation Accuracy: 90.10263930% (1229/1364)\n",
      "Epoch 34, Training Accuracy: 99.72507331% (5441/5456), Validation Accuracy: 89.88269795% (1226/1364)\n",
      "Epoch 35, Training Accuracy: 99.56011730% (5432/5456), Validation Accuracy: 90.10263930% (1229/1364)\n",
      "Epoch 36, Training Accuracy: 99.67008798% (5438/5456), Validation Accuracy: 89.80938416% (1225/1364)\n",
      "Epoch 37, Training Accuracy: 99.63343109% (5436/5456), Validation Accuracy: 89.51612903% (1221/1364)\n",
      "Epoch 38, Training Accuracy: 99.74340176% (5442/5456), Validation Accuracy: 89.73607038% (1224/1364)\n",
      "Epoch 39, Training Accuracy: 99.70674487% (5440/5456), Validation Accuracy: 90.17595308% (1230/1364)\n",
      "Epoch 40, Training Accuracy: 99.68841642% (5439/5456), Validation Accuracy: 88.78299120% (1211/1364)\n",
      "Epoch 41, Training Accuracy: 99.70674487% (5440/5456), Validation Accuracy: 90.24926686% (1231/1364)\n",
      "Epoch 42, Training Accuracy: 99.85337243% (5448/5456), Validation Accuracy: 90.17595308% (1230/1364)\n",
      "Epoch 43, Training Accuracy: 99.74340176% (5442/5456), Validation Accuracy: 90.17595308% (1230/1364)\n",
      "Epoch 44, Training Accuracy: 99.85337243% (5448/5456), Validation Accuracy: 90.24926686% (1231/1364)\n",
      "Epoch 45, Training Accuracy: 99.85337243% (5448/5456), Validation Accuracy: 90.24926686% (1231/1364)\n",
      "Epoch 46, Training Accuracy: 99.83504399% (5447/5456), Validation Accuracy: 89.95601173% (1227/1364)\n",
      "Epoch 47, Training Accuracy: 99.85337243% (5448/5456), Validation Accuracy: 90.46920821% (1234/1364)\n",
      "Epoch 48, Training Accuracy: 99.78005865% (5444/5456), Validation Accuracy: 90.46920821% (1234/1364)\n",
      "Epoch 49, Training Accuracy: 99.85337243% (5448/5456), Validation Accuracy: 90.10263930% (1229/1364)\n",
      "Epoch 50, Training Accuracy: 99.83504399% (5447/5456), Validation Accuracy: 90.83577713% (1239/1364)\n",
      "Finished Training\n"
     ]
    }
   ],
   "source": [
    "best_acc = 0.0  # Variable to store the best accuracy on the validation set\n",
    "# Load the pretrained AlexNet model\n",
    "model = models.vgg16(pretrained=True)\n",
    "\n",
    "# Modify the classifier to match the number of classes\n",
    "num_features = model.classifier[6].in_features\n",
    "model.classifier[6] = nn.Linear(num_features, len(trainset.classes))\n",
    "\n",
    "# Move the model to GPU\n",
    "model = model.to(device)\n",
    "\n",
    "# Define the loss function and optimizer\n",
    "criterion = nn.CrossEntropyLoss()\n",
    "optimizer = optim.SGD(model.parameters(), lr=0.001, momentum=0.9)\n",
    "\n",
    "for epoch in range(num_epochs):\n",
    "    model.train()\n",
    "    running_loss = 0.0\n",
    "    correct_train = 0\n",
    "    total_train = 0\n",
    "\n",
    "    for i, data in enumerate(trainloader, 0):\n",
    "        inputs, labels = data\n",
    "\n",
    "        # Move inputs and labels to GPU\n",
    "        inputs, labels = inputs.to(device), labels.to(device)\n",
    "\n",
    "        optimizer.zero_grad()\n",
    "\n",
    "        outputs = model(inputs)\n",
    "        loss = criterion(outputs, labels)\n",
    "        loss.backward()\n",
    "        optimizer.step()\n",
    "\n",
    "        running_loss += loss.item()\n",
    "\n",
    "        _, predicted_train = torch.max(outputs.data, 1)\n",
    "        total_train += labels.size(0)\n",
    "        correct_train += (predicted_train == labels).sum().item()\n",
    "\n",
    "        if i % 100 == 99:\n",
    "            print('[%d, %5d] loss: %.3f' %\n",
    "                  (epoch + 1, i + 1, running_loss / 100))\n",
    "            running_loss = 0.0\n",
    "\n",
    "    # Training accuracy for the epoch\n",
    "    train_accuracy = correct_train / total_train\n",
    "\n",
    "    # Evaluate the model on the validation set\n",
    "    model.eval()\n",
    "    correct_val = 0\n",
    "    total_val = 0\n",
    "\n",
    "    with torch.no_grad():\n",
    "        for data in testloader:\n",
    "            inputs, labels = data\n",
    "            inputs, labels = inputs.to(device), labels.to(device)\n",
    "            outputs = model(inputs)\n",
    "            _, predicted_val = torch.max(outputs.data, 1)\n",
    "            total_val += labels.size(0)\n",
    "            correct_val += (predicted_val == labels).sum().item()\n",
    "\n",
    "    # Validation accuracy for the epoch\n",
    "    val_accuracy = correct_val / total_val\n",
    "\n",
    "    print(f'Epoch {epoch + 1}, Training Accuracy: {100 * train_accuracy:.8f}% ({correct_train}/{total_train}), Validation Accuracy: {100 * val_accuracy:.8f}% ({correct_val}/{total_val})')\n",
    "\n",
    "\n",
    "    # Save the model if it has the best accuracy so far\n",
    "    if val_accuracy > best_acc:\n",
    "        best_acc = val_accuracy\n",
    "        torch.save(model.state_dict(), 'best_model_vgg16.pth')\n",
    "\n",
    "print('Finished Training')"
   ]
  }
 ],
 "metadata": {
  "kernelspec": {
   "display_name": "Python 3 (ipykernel)",
   "language": "python",
   "name": "python3"
  },
  "language_info": {
   "codemirror_mode": {
    "name": "ipython",
    "version": 3
   },
   "file_extension": ".py",
   "mimetype": "text/x-python",
   "name": "python",
   "nbconvert_exporter": "python",
   "pygments_lexer": "ipython3",
   "version": "3.9.18"
  }
 },
 "nbformat": 4,
 "nbformat_minor": 5
}
